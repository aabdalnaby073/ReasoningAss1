{
 "cells": [
  {
   "cell_type": "code",
   "execution_count": 77,
   "metadata": {},
   "outputs": [],
   "source": [
    "import random\n",
    "import re"
   ]
  },
  {
   "cell_type": "code",
   "execution_count": 78,
   "metadata": {},
   "outputs": [
    {
     "name": "stdout",
     "output_type": "stream",
     "text": [
      "Result = ∃x ∀y ∀z ( ~( Likes(y) V Loves(z) ) V ( Likes(x) V Loves(x) ) ~~)\n"
     ]
    }
   ],
   "source": [
    "def eliminateImp(clause):\n",
    "    clause = clause.split(\" \")\n",
    "    while '->' in clause:\n",
    "        index = clause.index('->')\n",
    "        l_idx = index - 1\n",
    "\n",
    "        # Find the corresponding opening parenthesis\n",
    "        parenthesis_count = 0\n",
    "        while l_idx >= 0:\n",
    "            if clause[l_idx] == \"(\":\n",
    "                parenthesis_count -= 1\n",
    "                if parenthesis_count == 0:\n",
    "                    break\n",
    "            elif clause[l_idx] == \")\":\n",
    "                parenthesis_count += 1\n",
    "            l_idx -= 1\n",
    "\n",
    "        clause[l_idx] = \"~\" + clause[l_idx]\n",
    "        clause[index] = 'V'\n",
    "\n",
    "    return ' '.join(clause)\n",
    "\n",
    "print(\"Result = \" + eliminateImp(\"∃x ∀y ∀z ( ( Likes(y) -> Loves(z) ) -> ( Likes(x) -> Loves(x) ) )\"))\n"
   ]
  },
  {
   "cell_type": "code",
   "execution_count": 79,
   "metadata": {},
   "outputs": [
    {
     "name": "stdout",
     "output_type": "stream",
     "text": [
      "Result = ∃x ∀y ∀z ( ( ~Likes(y) V ~Loves(z) ) V ( Likes(x) V Loves(x) ) ~~)\n"
     ]
    }
   ],
   "source": [
    "def demorgan(Clause):\n",
    "\n",
    "    Clause = Clause.split(\" \")\n",
    "    while '~(' in Clause:\n",
    "        index = Clause.index('~(')\n",
    "\n",
    "        first_oprand = index + 1\n",
    "        operator = index + 2\n",
    "        second_oprand = index + 3\n",
    "\n",
    "        Clause[first_oprand] = \"~\" + Clause[first_oprand]\n",
    "        Clause[second_oprand] = \"~\" + Clause[second_oprand]\n",
    "\n",
    "        if Clause[operator] == '|':\n",
    "            Clause[operator] = '&'\n",
    "        elif Clause[operator] == '&' :\n",
    "            Clause[operator] = '|'\n",
    "\n",
    "        Clause[index] = \"(\"\n",
    "\n",
    "    return ' '.join(Clause)\n",
    "\n",
    "\n",
    "print(\"Result = \" + demorgan(eliminateImp(\"∃x ∀y ∀z ( ( Likes(y) -> Loves(z) ) -> ( Likes(x) -> Loves(x) ) )\")) )"
   ]
  },
  {
   "cell_type": "code",
   "execution_count": 80,
   "metadata": {},
   "outputs": [
    {
     "name": "stdout",
     "output_type": "stream",
     "text": [
      "Result = ∃x ∀y ∀z ( ( ~Likes(y) V ~Loves(z) ) V ( Likes(x) V Loves(x) ) )\n"
     ]
    }
   ],
   "source": [
    "def remove2Nots(expression):\n",
    "\n",
    "    i = 0\n",
    "    while i < len(expression)-1 :\n",
    "        if expression[i] == '~' and expression[i+1] == '~' :\n",
    "            expression = expression[:i]+expression[i+2:]\n",
    "\n",
    "        else:\n",
    "            i += 1\n",
    "\n",
    "    return expression\n",
    "\n",
    "print(\"Result = \" + remove2Nots(demorgan(eliminateImp(\"∃x ∀y ∀z ( ( Likes(y) -> Loves(z) ) -> ( Likes(x) -> Loves(x) ) )\")) ))"
   ]
  },
  {
   "cell_type": "code",
   "execution_count": 81,
   "metadata": {},
   "outputs": [
    {
     "name": "stdout",
     "output_type": "stream",
     "text": [
      "Result = ∃x ∀y ∀h ( ( ~Likes(h) V ~Loves(z) ) V ( Likes(x) V Loves(x) ) )\n"
     ]
    }
   ],
   "source": [
    "def standardize_variable(expression):\n",
    "\n",
    "    variables = []\n",
    "    for i in range(len(expression)):\n",
    "     if expression[i] == '∀' or expression[i] == '∃':\n",
    "\n",
    "        if expression[i+1] not in variables:\n",
    "          variables.append(expression[i+1])\n",
    "        else:\n",
    "          randomLetter = chr(random.randint(ord('a'), ord('z')))\n",
    "\n",
    "          while randomLetter in variables :\n",
    "             randomLetter = chr(random.randint(ord('a'), ord('z')))\n",
    "\n",
    "          expression = expression[:i]+expression[i:].replace(expression[i+1] ,randomLetter  )\n",
    "          variables.append(randomLetter)\n",
    "\n",
    "    return expression\n",
    "    \n",
    "    \n",
    "print(\"Result = \" + standardize_variable(remove2Nots(demorgan(eliminateImp(\"∃x ∀y ∀y ( ( Likes(y) -> Loves(z) ) -> ( Likes(x) -> Loves(x) ) )\")) )))"
   ]
  },
  {
   "cell_type": "code",
   "execution_count": 82,
   "metadata": {},
   "outputs": [
    {
     "name": "stdout",
     "output_type": "stream",
     "text": [
      "Result =    ( ( ~Likes(p) V ~Loves(z) ) V ( Likes(x) V Loves(x) ) )\n"
     ]
    }
   ],
   "source": [
    "def remove_quantifiers(formula):\n",
    "    new_formula = \"\"\n",
    "    i = 0\n",
    "    while i < len(formula):\n",
    "        if formula[i] in ['∀', '∃']:\n",
    "            i += 2\n",
    "        else:\n",
    "            new_formula += formula[i]\n",
    "            i += 1\n",
    "    return new_formula\n",
    "\n",
    "\n",
    "\n",
    "print(\"Result = \" + remove_quantifiers(standardize_variable(remove2Nots(demorgan(eliminateImp(\"∃x ∀y ∀y ( ( Likes(y) -> Loves(z) ) -> ( Likes(x) -> Loves(x) ) )\")) ))) )"
   ]
  }
 ],
 "metadata": {
  "kernelspec": {
   "display_name": "base",
   "language": "python",
   "name": "python3"
  },
  "language_info": {
   "codemirror_mode": {
    "name": "ipython",
    "version": 3
   },
   "file_extension": ".py",
   "mimetype": "text/x-python",
   "name": "python",
   "nbconvert_exporter": "python",
   "pygments_lexer": "ipython3",
   "version": "3.11.5"
  }
 },
 "nbformat": 4,
 "nbformat_minor": 2
}
