{
 "cells": [
  {
   "cell_type": "code",
   "execution_count": 11,
   "metadata": {},
   "outputs": [],
   "source": [
    "import random\n",
    "import re"
   ]
  },
  {
   "cell_type": "code",
   "execution_count": 6,
   "metadata": {},
   "outputs": [],
   "source": [
    "def last_index_of(lst, item):\n",
    "    try:\n",
    "        reversed_index = len(lst) - lst[::-1].index(item) - 1\n",
    "        return reversed_index\n",
    "    except ValueError:\n",
    "        return -1"
   ]
  },
  {
   "cell_type": "code",
   "execution_count": 7,
   "metadata": {},
   "outputs": [
    {
     "name": "stdout",
     "output_type": "stream",
     "text": [
      "∃x ∀y ∀z ( ~( ~Likes(y) | Loves(z) ) | ( ~Likes(x) | Loves(x) ) )\n"
     ]
    }
   ],
   "source": [
    "def eliminateImp(expression):\n",
    "\n",
    "    expression = expression.split(\" \")\n",
    "    while '->' in expression:\n",
    "\n",
    "      index = expression.index('->')\n",
    "\n",
    "      left_index = index - 1\n",
    "      if expression[left_index] == \")\":\n",
    "         left_index = last_index_of(expression[0:index] , \"(\")\n",
    "\n",
    "      expression[left_index] = \"~\" + expression[left_index]\n",
    "      expression[index] = '|'\n",
    "\n",
    "\n",
    "\n",
    "\n",
    "    return ' '.join(expression)\n",
    "print(eliminateImp('∃x ∀y ∀z ( ( Likes(y) -> Loves(z) ) -> ( Likes(x) -> Loves(x) ) )'))"
   ]
  },
  {
   "cell_type": "code",
   "execution_count": 8,
   "metadata": {},
   "outputs": [
    {
     "name": "stdout",
     "output_type": "stream",
     "text": [
      "Result = ∃x ∀y ∀z ( ( ~~Likes(y) | ~Loves(z) ) | ( ~Likes(x) | Loves(x) ) )\n"
     ]
    }
   ],
   "source": [
    "def demorgan(Clause):\n",
    "\n",
    "    Clause = Clause.split(\" \")\n",
    "    while '~(' in Clause:\n",
    "        index = Clause.index('~(')\n",
    "\n",
    "        first_oprand = index + 1\n",
    "        operator = index + 2\n",
    "        second_oprand = index + 3\n",
    "\n",
    "        Clause[first_oprand] = \"~\" + Clause[first_oprand]\n",
    "        Clause[second_oprand] = \"~\" + Clause[second_oprand]\n",
    "\n",
    "        if Clause[operator] == 'V':\n",
    "            Clause[operator] = '&'\n",
    "        elif Clause[operator] == '&' :\n",
    "            Clause[operator] = 'V'\n",
    "\n",
    "        Clause[index] = \"(\"\n",
    "\n",
    "    return ' '.join(Clause)\n",
    "\n",
    "\n",
    "print(\"Result = \" + demorgan(eliminateImp(\"∃x ∀y ∀z ( ( Likes(y) -> Loves(z) ) -> ( Likes(x) -> Loves(x) ) )\")) )"
   ]
  },
  {
   "cell_type": "code",
   "execution_count": 9,
   "metadata": {},
   "outputs": [
    {
     "name": "stdout",
     "output_type": "stream",
     "text": [
      "Result = ∃x ∀y ∀z ( ( Likes(y) | ~Loves(z) ) | ( ~Likes(x) | Loves(x) ) )\n"
     ]
    }
   ],
   "source": [
    "def remove2Nots(clause):\n",
    "\n",
    "    i = 0\n",
    "    while i < len(clause)-1 :\n",
    "        if clause[i] == '~' and clause[i+1] == '~' :\n",
    "            clause = clause[:i]+clause[i+2:]\n",
    "\n",
    "        else:\n",
    "            i += 1\n",
    "\n",
    "    return clause\n",
    "\n",
    "print(\"Result = \" + remove2Nots(demorgan(eliminateImp(\"∃x ∀y ∀z ( ( Likes(y) -> Loves(z) ) -> ( Likes(x) -> Loves(x) ) )\")) ))"
   ]
  },
  {
   "cell_type": "code",
   "execution_count": 12,
   "metadata": {},
   "outputs": [
    {
     "name": "stdout",
     "output_type": "stream",
     "text": [
      "Result = ∃x ∀y ∀e ( ( Likes(e) | ~Loves(z) ) | ( ~Likes(x) | Loves(x) ) )\n"
     ]
    }
   ],
   "source": [
    "def standardize_variable(clause):\n",
    "\n",
    "    variables = []\n",
    "    for i in range(len(clause)):\n",
    "     if clause[i] == '∀' or clause[i] == '∃':\n",
    "\n",
    "        if clause[i+1] not in variables:\n",
    "          variables.append(clause[i+1])\n",
    "        else:\n",
    "          randomLetter = chr(random.randint(ord('a'), ord('z')))\n",
    "\n",
    "          while randomLetter in variables :\n",
    "             randomLetter = chr(random.randint(ord('a'), ord('z')))\n",
    "\n",
    "          clause = clause[:i]+clause[i:].replace(clause[i+1] ,randomLetter  )\n",
    "          variables.append(randomLetter)\n",
    "\n",
    "    return clause\n",
    "    \n",
    "    \n",
    "print(\"Result = \" + standardize_variable(remove2Nots(demorgan(eliminateImp(\"∃x ∀y ∀y ( ( Likes(y) -> Loves(z) ) -> ( Likes(x) -> Loves(x) ) )\")) )))"
   ]
  },
  {
   "cell_type": "code",
   "execution_count": 14,
   "metadata": {},
   "outputs": [
    {
     "name": "stdout",
     "output_type": "stream",
     "text": [
      "Result = ∃x ∀y ∀z ( ( Likes(y) -> Loves(z) ) -> ( Likes(x) -> Loves(x) ) )\n"
     ]
    }
   ],
   "source": [
    "def prenex_form(clause):\n",
    "    clause = clause.split(\" \")\n",
    "    quantifiers = []\n",
    "    non_quantifiers = []\n",
    "\n",
    "    for token in clause:\n",
    "        if token and (token[0] == '∃' or token[0] == '∀'):\n",
    "            quantifiers.append(token)\n",
    "        elif token:\n",
    "            non_quantifiers.append(token)\n",
    "\n",
    "    return ' '.join(quantifiers + non_quantifiers)\n",
    "\n",
    "print(\"Result = \" + prenex_form(\"∃x ∀y  ( ( Likes(y) -> ∀z Loves(z) ) -> ( Likes(x) -> Loves(x) ) )\"))\n"
   ]
  },
  {
   "cell_type": "code",
   "execution_count": 15,
   "metadata": {},
   "outputs": [
    {
     "name": "stdout",
     "output_type": "stream",
     "text": [
      "Result =    ( ( Likes(p) | ~Loves(z) ) | ( ~Likes(x) | Loves(x) ) )\n"
     ]
    }
   ],
   "source": [
    "def remove_quantifiers(clause):\n",
    "    res = \"\"\n",
    "    i = 0\n",
    "    while i < len(clause):\n",
    "        if clause[i] in ['∀', '∃']:\n",
    "            i += 2\n",
    "        else:\n",
    "            res += clause[i]\n",
    "            i += 1\n",
    "    return res\n",
    "\n",
    "\n",
    "\n",
    "print(\"Result = \" + remove_quantifiers(standardize_variable(remove2Nots(demorgan(eliminateImp(\"∃x ∀y ∀y ( ( Likes(y) -> Loves(z) ) -> ( Likes(x) -> Loves(x) ) )\")) ))) )"
   ]
  },
  {
   "cell_type": "code",
   "execution_count": 16,
   "metadata": {},
   "outputs": [
    {
     "name": "stdout",
     "output_type": "stream",
     "text": [
      "( ~Likes(u) V Likes(x) ) & ( ~Likes(u) V Loves(x) ) & ( ~Loves(z) V Likes(x) ) & ( ~Loves(z) V Loves(x) )\n"
     ]
    }
   ],
   "source": [
    "def distribution(clause):\n",
    "\n",
    "    clauses = []\n",
    "    if \") V (\" in clause:\n",
    "      index = clause.index(\") V (\")\n",
    "      first = clause[:index].split(\" \")\n",
    "      second = clause[index+4:].split(\" \")\n",
    "      for i in first :\n",
    "        for j in second :\n",
    "          if (i != '' and i != ')' and i != '(' and i != '&'and i != 'V') and (j != '' and j != ')' and j != '(' and j != '&'and j != 'V') :\n",
    "              clauses.append(\"( \"+i+\" V \"+ j+\" )\")\n",
    "\n",
    "\n",
    "\n",
    "\n",
    "    return \" & \".join(clauses)\n",
    "  \n",
    "  \n",
    "print(distribution(\" ( ( ~Likes(u) V ~Loves(z) ) V ( Likes(x) V Loves(x) ) )\"))"
   ]
  }
 ],
 "metadata": {
  "kernelspec": {
   "display_name": "base",
   "language": "python",
   "name": "python3"
  },
  "language_info": {
   "codemirror_mode": {
    "name": "ipython",
    "version": 3
   },
   "file_extension": ".py",
   "mimetype": "text/x-python",
   "name": "python",
   "nbconvert_exporter": "python",
   "pygments_lexer": "ipython3",
   "version": "3.11.5"
  }
 },
 "nbformat": 4,
 "nbformat_minor": 2
}
