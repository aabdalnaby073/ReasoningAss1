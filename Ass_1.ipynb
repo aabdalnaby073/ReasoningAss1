{
 "cells": [
  {
   "cell_type": "code",
   "execution_count": 4,
   "metadata": {},
   "outputs": [],
   "source": [
    "import random\n",
    "import re"
   ]
  },
  {
   "cell_type": "code",
   "execution_count": 5,
   "metadata": {},
   "outputs": [
    {
     "name": "stdout",
     "output_type": "stream",
     "text": [
      "Result = ∃x ∀y ∀z ( ~( Likes(y) V Loves(z) ) V ( Likes(x) V Loves(x) ) ~~)\n"
     ]
    }
   ],
   "source": [
    "def eliminateImp(clause):\n",
    "    clause = clause.split(\" \")\n",
    "    while '->' in clause:\n",
    "        index = clause.index('->')\n",
    "        l_idx = index - 1\n",
    "\n",
    "        # Find the corresponding opening parenthesis\n",
    "        parenthesis_count = 0\n",
    "        while l_idx >= 0:\n",
    "            if clause[l_idx] == \"(\":\n",
    "                parenthesis_count -= 1\n",
    "                if parenthesis_count == 0:\n",
    "                    break\n",
    "            elif clause[l_idx] == \")\":\n",
    "                parenthesis_count += 1\n",
    "            l_idx -= 1\n",
    "\n",
    "        clause[l_idx] = \"~\" + clause[l_idx]\n",
    "        clause[index] = 'V'\n",
    "\n",
    "    return ' '.join(clause)\n",
    "\n",
    "print(\"Result = \" + eliminateImp(\"∃x ∀y ∀z ( ( Likes(y) -> Loves(z) ) -> ( Likes(x) -> Loves(x) ) )\"))\n"
   ]
  },
  {
   "cell_type": "code",
   "execution_count": 6,
   "metadata": {},
   "outputs": [
    {
     "name": "stdout",
     "output_type": "stream",
     "text": [
      "Result = ∃x ∀y ∀z ( ( ~Likes(y) V ~Loves(z) ) V ( Likes(x) V Loves(x) ) ~~)\n"
     ]
    }
   ],
   "source": [
    "def demorgan(Clause):\n",
    "\n",
    "    Clause = Clause.split(\" \")\n",
    "    while '~(' in Clause:\n",
    "        index = Clause.index('~(')\n",
    "\n",
    "        first_oprand = index + 1\n",
    "        operator = index + 2\n",
    "        second_oprand = index + 3\n",
    "\n",
    "        Clause[first_oprand] = \"~\" + Clause[first_oprand]\n",
    "        Clause[second_oprand] = \"~\" + Clause[second_oprand]\n",
    "\n",
    "        if Clause[operator] == '|':\n",
    "            Clause[operator] = '&'\n",
    "        elif Clause[operator] == '&' :\n",
    "            Clause[operator] = '|'\n",
    "\n",
    "        Clause[index] = \"(\"\n",
    "\n",
    "    return ' '.join(Clause)\n",
    "\n",
    "\n",
    "print(\"Result = \" + demorgan(eliminateImp(\"∃x ∀y ∀z ( ( Likes(y) -> Loves(z) ) -> ( Likes(x) -> Loves(x) ) )\")) )"
   ]
  },
  {
   "cell_type": "code",
   "execution_count": 29,
   "metadata": {},
   "outputs": [
    {
     "name": "stdout",
     "output_type": "stream",
     "text": [
      "Result = ∃x ∀y ∀z ( ( ~Likes(y) V ~Loves(z) ) V ( Likes(x) V Loves(x) ) )\n"
     ]
    }
   ],
   "source": [
    "def remove2Nots(clause):\n",
    "\n",
    "    i = 0\n",
    "    while i < len(clause)-1 :\n",
    "        if clause[i] == '~' and clause[i+1] == '~' :\n",
    "            clause = clause[:i]+clause[i+2:]\n",
    "\n",
    "        else:\n",
    "            i += 1\n",
    "\n",
    "    return clause\n",
    "\n",
    "print(\"Result = \" + remove2Nots(demorgan(eliminateImp(\"∃x ∀y ∀z ( ( Likes(y) -> Loves(z) ) -> ( Likes(x) -> Loves(x) ) )\")) ))"
   ]
  },
  {
   "cell_type": "code",
   "execution_count": 33,
   "metadata": {},
   "outputs": [
    {
     "name": "stdout",
     "output_type": "stream",
     "text": [
      "Result = ∃x ∀y ∀u ( ( ~Likes(u) V ~Loves(z) ) V ( Likes(x) V Loves(x) ) )\n"
     ]
    }
   ],
   "source": [
    "def standardize_variable(clause):\n",
    "\n",
    "    variables = []\n",
    "    for i in range(len(clause)):\n",
    "     if clause[i] == '∀' or clause[i] == '∃':\n",
    "\n",
    "        if clause[i+1] not in variables:\n",
    "          variables.append(clause[i+1])\n",
    "        else:\n",
    "          randomLetter = chr(random.randint(ord('a'), ord('z')))\n",
    "\n",
    "          while randomLetter in variables :\n",
    "             randomLetter = chr(random.randint(ord('a'), ord('z')))\n",
    "\n",
    "          clause = clause[:i]+clause[i:].replace(clause[i+1] ,randomLetter  )\n",
    "          variables.append(randomLetter)\n",
    "\n",
    "    return clause\n",
    "    \n",
    "    \n",
    "print(\"Result = \" + standardize_variable(remove2Nots(demorgan(eliminateImp(\"∃x ∀y ∀y ( ( Likes(y) -> Loves(z) ) -> ( Likes(x) -> Loves(x) ) )\")) )))"
   ]
  },
  {
   "cell_type": "code",
   "execution_count": 30,
   "metadata": {},
   "outputs": [
    {
     "name": "stdout",
     "output_type": "stream",
     "text": [
      "Result = ∃x ∀y ∀z ( ( Likes(y) -> Loves(z) ) -> ( Likes(x) -> Loves(x) ) )\n"
     ]
    }
   ],
   "source": [
    "def prenex_form(clause):\n",
    "    clause = clause.split(\" \")\n",
    "    quantifiers = []\n",
    "    non_quantifiers = []\n",
    "\n",
    "    for token in clause:\n",
    "        if token and (token[0] == '∃' or token[0] == '∀'):\n",
    "            quantifiers.append(token)\n",
    "        elif token:\n",
    "            non_quantifiers.append(token)\n",
    "\n",
    "    return ' '.join(quantifiers + non_quantifiers)\n",
    "\n",
    "print(\"Result = \" + prenex_form(\"∃x ∀y  ( ( Likes(y) -> ∀z Loves(z) ) -> ( Likes(x) -> Loves(x) ) )\"))\n"
   ]
  },
  {
   "cell_type": "code",
   "execution_count": 40,
   "metadata": {},
   "outputs": [
    {
     "name": "stdout",
     "output_type": "stream",
     "text": [
      "Result =    ( ( ~Likes(h) V ~Loves(z) ) V ( Likes(x) V Loves(x) ) )\n"
     ]
    }
   ],
   "source": [
    "def remove_quantifiers(clause):\n",
    "    res = \"\"\n",
    "    i = 0\n",
    "    while i < len(clause):\n",
    "        if clause[i] in ['∀', '∃']:\n",
    "            i += 2\n",
    "        else:\n",
    "            res += clause[i]\n",
    "            i += 1\n",
    "    return res\n",
    "\n",
    "\n",
    "\n",
    "print(\"Result = \" + remove_quantifiers(standardize_variable(remove2Nots(demorgan(eliminateImp(\"∃x ∀y ∀y ( ( Likes(y) -> Loves(z) ) -> ( Likes(x) -> Loves(x) ) )\")) ))) )"
   ]
  },
  {
   "cell_type": "code",
   "execution_count": 43,
   "metadata": {},
   "outputs": [
    {
     "name": "stdout",
     "output_type": "stream",
     "text": [
      "( ~Likes(u) V Likes(x) ) & ( ~Likes(u) V Loves(x) ) & ( ~Loves(z) V Likes(x) ) & ( ~Loves(z) V Loves(x) )\n"
     ]
    }
   ],
   "source": [
    "def distribution(clause):\n",
    "\n",
    "    clauses = []\n",
    "    if \") V (\" in clause:\n",
    "      index = clause.index(\") V (\")\n",
    "      first = clause[:index].split(\" \")\n",
    "      second = clause[index+4:].split(\" \")\n",
    "      for i in first :\n",
    "        for j in second :\n",
    "          if (i != '' and i != ')' and i != '(' and i != '&'and i != 'V') and (j != '' and j != ')' and j != '(' and j != '&'and j != 'V') :\n",
    "              clauses.append(\"( \"+i+\" V \"+ j+\" )\")\n",
    "\n",
    "\n",
    "\n",
    "\n",
    "    return \" & \".join(clauses)\n",
    "  \n",
    "  \n",
    "print(distribution(\" ( ( ~Likes(u) V ~Loves(z) ) V ( Likes(x) V Loves(x) ) )\"))"
   ]
  }
 ],
 "metadata": {
  "kernelspec": {
   "display_name": "base",
   "language": "python",
   "name": "python3"
  },
  "language_info": {
   "codemirror_mode": {
    "name": "ipython",
    "version": 3
   },
   "file_extension": ".py",
   "mimetype": "text/x-python",
   "name": "python",
   "nbconvert_exporter": "python",
   "pygments_lexer": "ipython3",
   "version": "3.11.5"
  }
 },
 "nbformat": 4,
 "nbformat_minor": 2
}
